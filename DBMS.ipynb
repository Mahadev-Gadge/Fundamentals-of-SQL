{
 "cells": [
  {
   "cell_type": "markdown",
   "id": "ccdc002e",
   "metadata": {
    "id": "10f8f4c7"
   },
   "source": [
    "# DBMS(Database management system):\n",
    "\n",
    "source:https://www.scaler.com/topics/dbms/what-is-dbms/\n",
    "\n",
    "1. For a long time, we used to store information on the piece of paper and these papers inside files which are then stored in big racks. But in today’s computer age we store data inside the database.\n",
    "\n",
    "2. To work with these databases we use software which is known as Database Management System (DBMS).\n",
    "\n",
    "3. Database Management System (DBMS) is a software used for the storage, access and manipulation of data.\n",
    "\n",
    "4. All the data in the database is arranged in tables, where each table contains rows and columns. You can imagine this as an excel sheet. Due to this structure of a database, programmers can write efficient database queries.\n",
    "\n",
    "5. Database query in DBMS is nothing but the logical instruction which helps to manipulate the data inside the database.\n",
    "\n",
    "6. Common DBMS software are MySQL, PostgreSQL, Microsoft Access, MariaDB, SQLite and Microsoft SQL Server."
   ]
  },
  {
   "cell_type": "markdown",
   "id": "81f33aa0",
   "metadata": {
    "id": "Qi6DL_fKYJ6e"
   },
   "source": [
    "# CRUD:\n",
    "We use DBMS for so many things but one of the main uses is to perform the CRUD operations on the database.\n",
    "\n",
    "C-CREATE\n",
    "\n",
    "R-READ\n",
    "\n",
    "U-UPDATE\n",
    "\n",
    "D-DELETE\n",
    "\n",
    "Create:\n",
    "Create means the creation of tables, rows, and columns with the help of DBMS. This is the operation where we insert the data and create other useful structures which help to efficiently work with the databases. When some users fill the form on any website there are some queries written at the back-end which performs the insert operation to store the user’s data.\n",
    "\n",
    "Read:\n",
    "Read is an operation that is used so much in the DBMS. There is always a need to retrieve the data from the database. Whenever you see your friend’s image on Instagram it is retrieved from Instagram’s database. It is very important to retrieve the relevant information for the user every time when he uses an application.\n",
    "\n",
    "Update:\n",
    "The update operation is used to modify the existing data from the database. There is an always edit button on the social media apps which helps to update or modify the information in posts. Update operation needs to be performed with caution in DBMS so that we can update only those things which need to be changed and not others.\n",
    "\n",
    "Delete:\n",
    "Delete operation is simply used to delete the entry from the database. It needs to be used with extra caution so that useful information doesn’t get deleted.\n"
   ]
  },
  {
   "cell_type": "markdown",
   "id": "5208eb08",
   "metadata": {
    "id": "d029ff1f"
   },
   "source": [
    "# Why DBMS?\n",
    "\n",
    "Data is the oil of the 21st century. With data being of utmost importance, there is a need to understand the system that helps us store and manage data in a standardized structure.\n",
    "\n",
    "If you know DBMS, that means you can:\n",
    "\n",
    "1. Solve real-world problems by connecting them to DBMS relations and entities.\n",
    "\n",
    "2. Help businesses organize their data more effectively and many more."
   ]
  },
  {
   "cell_type": "markdown",
   "id": "8adbc7e4",
   "metadata": {
    "id": "316b9755"
   },
   "source": [
    "# Applications of DBMS:\n",
    "\n",
    "DBMS is extensively used in real-time systems due to its adaptability to various use cases.\n",
    "\n",
    "Banking:\n",
    "DBMS is used to store information about customers, their transactions, credit and debit details, etc. in the databases.\n",
    "\n",
    "Airlines:\n",
    "All the data of reservations and bookings are stored in databases with the help of DBMS.\n",
    "\n",
    "University:\n",
    "DBMS is used to store student marks, details, credits, and other administrative information in the databases.\n",
    "\n",
    "Telecommunication:\n",
    "DBMS is used to keep the track of bills, call logs, and other customer information.\n",
    "\n",
    "Library Management:\n",
    "It becomes difficult to keep track of thousands of books and the members in the physical register. So DBMS is used to make it easy. With the help of DBMS, we can store data with different book categories, authors and genres.\n",
    "\n",
    "Social media:\n",
    "Millions of users use social media sites every day and tons of data is shared between them. This huge amount of data is managed and stored with the help of DBMS."
   ]
  },
  {
   "cell_type": "markdown",
   "id": "0262af1d",
   "metadata": {
    "id": "fd15c465"
   },
   "source": [
    "# Characteristics/advantages of DBMS:\n",
    "\n",
    "1. DBMS helps in standardizing processes, thus ensuring uniformity in data structures.\n",
    "\n",
    "2. In DBMS, you can provide access to different users based on their roles. DBMS also has a concept called views which enables different users to obtain a different view of the table with different features.\n",
    "\n",
    "3. DBMS allows multi-user transaction processing which means that users can access data in parallel and manipulate it without causing concurrency issues.\n",
    "\n",
    "4. It provides backup and recovery features that help create an automatic backup of data in a timely manner. This helps in mitigating unexpected hardware and software failures.\n",
    "\n",
    "5. Queries in DBMS are easy to learn and the different software that are used for this purpose are very easy to use."
   ]
  },
  {
   "cell_type": "markdown",
   "id": "7706f58e",
   "metadata": {
    "id": "WjB4dUs7dL-J"
   },
   "source": [
    "# ACID:\n",
    "Every operation which we perform on the database with the help of DBMS is known as the transaction and each of these transactions should follow the ACID property.\n",
    "\n",
    "ACID is an acronym that stands for Atomicity, Consistency, Isolation, and Durability.\n",
    "\n",
    "Atomicity:\n",
    "The transaction never remains in between, either it performs completely or gets discarded completely in the case of any system or DBMS failure. Read more about Atomicity in DBMS.\n",
    "\n",
    "Example: Transactions taking place in a bank (Credit or Debit of Money)\n",
    "\n",
    "If Marino has an account namely A with $50 in it and wants to send $20 to Amanda who has an account namely B. An amount of $200 is already existing in account B. When $20 is deposited to account B, the total becomes $220.\n",
    "\n",
    "Two procedures are now scheduled to take place. One is that the $20 that Marino wishes to send will be deducted from his account A and would be credited to account B, i.e., into Amanda's account. What happens now is that the initial debit operation succeeds, but the crediting operation fails.\n",
    "\n",
    "As a result, the value in Marino's account A becomes 30$, while the value in Amanda's account remains $200 as it was earlier.\n",
    "\n",
    "Consistency:\n",
    "Data is very precious and it should remain the same before and after the transaction. It shouldn’t show any inconsistent behaviors with DBMS.\n",
    "\n",
    "Isolation:\n",
    "All transactions should be isolated from one another, which means every transaction should be separate from one another there shouldn’t be any interference of one transaction onto another.\n",
    "\n",
    "Durability:\n",
    "After execution of the entire transaction, data should become permanent on the database. It should be durable i.e. it should remain there in case of system failure or system crash."
   ]
  },
  {
   "cell_type": "markdown",
   "id": "b86004d7",
   "metadata": {
    "id": "s_kkDTGmePkY"
   },
   "source": [
    "# Disadvantages of DBMS:\n",
    "1. Working with database management systems is often too complex.\n",
    "\n",
    "2. There is a cost involved to buy hardware for data storage.\n",
    "\n",
    "3. Most of the commercial DBMS contains paid licenses so there is a cost involved before their use.\n",
    "\n",
    "4. If there is no backup and recovery functionality in the DBMS, then data loss can happen in case of some system failure or system crash.\n",
    "\n",
    "5. There is a requirement of skilled technical staff to work with DBMS."
   ]
  },
  {
   "cell_type": "markdown",
   "id": "d37bb8a9",
   "metadata": {
    "id": "87b3590a"
   },
   "source": [
    "# Database:\n",
    "\n",
    "Database is the collection of organized data that is structured or unstructured. \n",
    "\n",
    "The database's primary goal is to store a huge amount of data.\n",
    "\n",
    "Many dynamic websites on the Internet today are stored in databases.\n",
    "\n",
    "For writing and retrieving data, most databases utilize structured query language (SQL).\n",
    "\n",
    "Examples of some databases: MySQL, Oracle, MongoDB, PostgreSQL, SQL Server, etc."
   ]
  },
  {
   "cell_type": "markdown",
   "id": "bf559640",
   "metadata": {
    "id": "a3956c1a"
   },
   "source": [
    "# Types of Database:\n",
    "\n",
    "The database has evolved much over the course of the last 50 years. Databases have been of different types over the years. Types of Databases are:\n",
    "\n",
    "1. File-Based Databases:\n",
    "\n",
    "File-Based databases were first developed in 1968. Data was stored as a flat-file in file-based databases. It is the most simple storage technique with less security and management. \n",
    "\n",
    "Examples: Microsoft's NTFS, Apple's Hierarchical File System.\n",
    "\n",
    "2. Relational Databases:\n",
    "\n",
    "In the 1980s, relational databases became popular. A relational database's data are structured into tables with columns and rows. It provides the most effective and versatile approach to access structured data. Examples: Oracle, MySQL, Microsoft SQLServer, PostgreSQL, etc.\n",
    "\n",
    "3. NoSQL Databases:\n",
    "\n",
    "Unstructured and semi-structured data are stored in a NoSQL database, i.e., No-Sql databases are the ones that do not store data as rows and columns.\n",
    "\n",
    "NoSQL stands for \"Not Only SQL\". A NoSQL database can handle a wide range of data models.\n",
    "\n",
    "As online applications became more frequent and complicated, NoSQL databases became increasingly popular.\n",
    "\n",
    "Examples: MongoDB, CouchDB, CouchBase\n",
    "\n",
    "4. Cloud Databases:\n",
    "\n",
    "Cloud database allows you to store, manage, and access structured (when you can store data in the form of rows and columns) and unstructured data(where we don't store data in rows and columns) over the internet or a cloud platform. This information can be accessed over the web. As they are provided as a managed service, cloud databases are also known as databases as a service (DBaaS).\n",
    "\n",
    "Examples: AWS (Amazon Web Services) cloud services, Oracle Database Cloud Services, Google cloud spanner."
   ]
  },
  {
   "cell_type": "markdown",
   "id": "715210ea",
   "metadata": {
    "id": "e2c7341f"
   },
   "source": [
    "# Why not simply use files, files/DBMS?\n",
    "\n",
    "Utimately DBMS stores data in files.\n",
    "\n",
    "Generally in any programming language file system provides features like creating/deleting files and folder, updation/modifiying file content. Similar way DBMS does it when there is a huge data. \n",
    "\n",
    "Differences between files and DBMS?\n",
    "\n",
    "1.Querying:\n",
    "\n",
    "Lets say we need list of employees salary less than $70k, we can get the employees list with simple SQL query. But when it comes to file system its much harder to get same data since we have to look at each employee salary information which is tedious and time consuming task.\n",
    "\n",
    "2.Redundancy: It avoids repedately storing same data.\n",
    "\n",
    "Lets say we have two tables, product and customer information table. Task here is to ship a product to customer. Since customer table contains address there is no need to have same address in product table. CUSTOMER ID from product table provides linkage to customer table so we can get all customer information. This way we DBMS avoids redundancy. In file sytems providing linkage across file is difficult job.\n",
    "\n",
    "3.Consistency:\n",
    "\n",
    "Lets say we want to update customer address, DBMS allows us to do it in customer table, from thereafter all delieveries go to updated customer address but in file system we have to update all files which has customer address.\n",
    "\n",
    "4.Security and access control:\n",
    "\n",
    "Customer personal and credit card information.\n",
    "\n",
    "If a sales person requests for credit card information which no longer acutally needed then no need to provide such information to him. And all levels of access requries appropriate approval from higher organization.\n",
    "File system lack of security and access control.\n",
    "\n",
    "\n",
    "Basically in DBMS data stored in file system format along with that it also has indexing feature which makes search much faster.\n",
    "DBMS internally adopts binary search tree and hashing type datastructures which ensures search faster.\n",
    "\n",
    "# Its advised to use DBMS when there is huge data instead of file system."
   ]
  },
  {
   "cell_type": "markdown",
   "id": "fac5127b",
   "metadata": {
    "id": "693e99cb"
   },
   "source": [
    "# Tables and Keys:\n",
    "\n",
    "Attributes![table%20and%20keys.png](attachment:table%20and%20keys.png)\n",
    " \n",
    "Relation-Table\n",
    "\n",
    "Fields/Attributes- columns in table\n",
    "\n",
    "Tuples/records- rows in table\n",
    "\n",
    "Instance- set of tuples/rows and table structure(columns).\n",
    "\n",
    "Keys-minimum set of columns/attributes which uniquely identifies rows/tuple.\n",
    "\n",
    "Ex: customer id- is a column which uniquely identifies each row.\n",
    "customer id, customer name- cannot be key because minimum set of column required to identify each row hence customer id is sufficient and customer name is not required.\n",
    "\n",
    "customer name, customer address- both attributes uniquely identifies each row.\n",
    "\n",
    "Simply key- key with only one attribute. ex:customer id\n",
    "\n",
    "Compound key- key with multiple attribute. ex: customer name, customer address.\n",
    "\n",
    "Candidate key- set of all unique keys. ex: {customer id, {customer name, customer address}}.\n",
    "\n",
    "Primary key-one of the candidate keys that the database designer chooses to maintain uniqueness.\n",
    "\n",
    "If we choose any attribute as primary key then it should pass few constraints.\n",
    "1.Primary key should not have NULL values\n",
    "2.Unique for each row/tuple.\n",
    "3.atmost one primary key.\n",
    "\n",
    "Once primary key is decided from candidate keys, then candidate keys can be null but not primary key.\n",
    "\n",
    "Alternative/secondary keys: These are candidate keys but not primary key and they might have null values.\n",
    "\n",
    "Relational schema: table structure + integrity constraints.\n",
    "\n",
    "Super key:candidate key along with any attributes.  Ex: custome id, customer name."
   ]
  },
  {
   "cell_type": "markdown",
   "id": "3184b1e8",
   "metadata": {
    "id": "51892161"
   },
   "source": [
    "# Foreign key:\n",
    "![foreign%20key.png](attachment:foreign%20key.png)\n",
    "\n",
    "Purchase table has trans id as primary key and customer id as attribute of table. Here cust id is a primary key of customer table.\n",
    "\n",
    "For each row of cust id in purchase table should present in customer table and this is one of the integrity constraint."
   ]
  },
  {
   "cell_type": "markdown",
   "id": "1399ed22",
   "metadata": {
    "id": "b2d6e580"
   },
   "source": [
    "# SQL commands: \n",
    "\n",
    "CREATE, USE, SOURCE, DESCRIBE commands:\n",
    "\n",
    "CREATE:\n",
    "Can be used to create database and table.\n",
    "Ex: CREATE database database_name or CREATE table table_name.\n",
    "\n",
    "USE:\n",
    "To use specific database.\n",
    "Ex: USE database_name\n",
    "\n",
    "SOURCE:\n",
    "To push db file to database.\n",
    "SOURCE file_name.\n",
    "\n",
    "DESCRIBE:\n",
    "To get the details of table, details are fields name, key, type and etc.\n",
    "DESCRIBE table_name."
   ]
  },
  {
   "cell_type": "code",
   "execution_count": null,
   "id": "64585d5b",
   "metadata": {
    "id": "334ae0b8"
   },
   "outputs": [],
   "source": []
  },
  {
   "cell_type": "code",
   "execution_count": null,
   "id": "1e57dba0",
   "metadata": {
    "id": "b908c5c2"
   },
   "outputs": [],
   "source": []
  },
  {
   "cell_type": "code",
   "execution_count": null,
   "id": "d1e691a3",
   "metadata": {
    "id": "dd1f8997"
   },
   "outputs": [],
   "source": []
  }
 ],
 "metadata": {
  "colab": {
   "provenance": []
  },
  "kernelspec": {
   "display_name": "Python 3",
   "language": "python",
   "name": "python3"
  },
  "language_info": {
   "codemirror_mode": {
    "name": "ipython",
    "version": 3
   },
   "file_extension": ".py",
   "mimetype": "text/x-python",
   "name": "python",
   "nbconvert_exporter": "python",
   "pygments_lexer": "ipython3",
   "version": "3.8.10"
  }
 },
 "nbformat": 4,
 "nbformat_minor": 5
}
